{
 "cells": [
  {
   "cell_type": "markdown",
   "id": "d072900b",
   "metadata": {},
   "source": [
    "Q.1. What are keywords in python? Using the keyword library, print all the python keywords.\n",
    "\n",
    "Answer: Keywords are the reserved words in Python. We cannot use a keyword as a variable name, function name or any other identifier."
   ]
  },
  {
   "cell_type": "code",
   "execution_count": 3,
   "id": "3e84738a",
   "metadata": {},
   "outputs": [
    {
     "data": {
      "text/plain": [
       "['False',\n",
       " 'None',\n",
       " 'True',\n",
       " 'and',\n",
       " 'as',\n",
       " 'assert',\n",
       " 'async',\n",
       " 'await',\n",
       " 'break',\n",
       " 'class',\n",
       " 'continue',\n",
       " 'def',\n",
       " 'del',\n",
       " 'elif',\n",
       " 'else',\n",
       " 'except',\n",
       " 'finally',\n",
       " 'for',\n",
       " 'from',\n",
       " 'global',\n",
       " 'if',\n",
       " 'import',\n",
       " 'in',\n",
       " 'is',\n",
       " 'lambda',\n",
       " 'nonlocal',\n",
       " 'not',\n",
       " 'or',\n",
       " 'pass',\n",
       " 'raise',\n",
       " 'return',\n",
       " 'try',\n",
       " 'while',\n",
       " 'with',\n",
       " 'yield']"
      ]
     },
     "execution_count": 3,
     "metadata": {},
     "output_type": "execute_result"
    }
   ],
   "source": [
    "import keyword\n",
    "keyword.kwlist"
   ]
  },
  {
   "cell_type": "markdown",
   "id": "d6e51751",
   "metadata": {},
   "source": [
    "Q.2. What are the rules to create variables in python?\n",
    "\n",
    "Answer: \n",
    "\n",
    "A variable name must start with a letter or the underscore character\n",
    "\n",
    "A variable name cannot start with a number\n",
    "\n",
    "A variable name can only contain alpha-numeric characters and underscores (A-z, 0-9, and _ )\n",
    "\n",
    "Variable names are case-sensitive (age, Age and AGE are three different variables)"
   ]
  },
  {
   "cell_type": "markdown",
   "id": "861c2445",
   "metadata": {},
   "source": [
    "Q.3. What are the standards and conventions followed for the nomenclature of variables in\n",
    "python to improve code readability and maintainability?\n",
    "\n",
    "Answer: \n",
    "\n",
    "In Python, variable names should be lowercase, with words separated by underscores. For example: my_variable = \"Hello, world!\" "
   ]
  },
  {
   "cell_type": "markdown",
   "id": "797a87ea",
   "metadata": {},
   "source": [
    "Q.4. What will happen if a keyword is used as a variable name?\n",
    "\n",
    "Answer: What happens if you use a keyword as a variable name?\n",
    "You cannot use keywords as variable names. It's because keywords have predefined meanings.It will give syntax error."
   ]
  },
  {
   "cell_type": "markdown",
   "id": "490cf532",
   "metadata": {},
   "source": [
    "Q.5. For what purpose def keyword is used?\n",
    "\n",
    "Answer: The def keyword is used to create, (or define) a function."
   ]
  },
  {
   "cell_type": "markdown",
   "id": "2e611efe",
   "metadata": {},
   "source": [
    "Q.6. What is the operation of this special character ‘\\’?\n",
    "\n",
    "Answer: In Python strings, the backslash \"\\\" is a special character, also called the \"escape\" character. It is used in representing certain whitespace characters: \"\\t\" is a tab, \"\\n\" is a newline, and \"\\r\" is a carriage return."
   ]
  },
  {
   "cell_type": "markdown",
   "id": "43472f57",
   "metadata": {},
   "source": [
    "Q.7. Give an example of the following conditions:\n",
    "Answer: \n",
    "\n",
    "(i) Homogeneous list : Ex. l= [1,2,[1,2,3,4],'rj',6.87]\n",
    "\n",
    "(ii) Heterogeneous set: Ex. s = {1,2,3,4,5,6}\n",
    "\n",
    "(iii) Homogeneous tuple: t = (1,2,3,4,'rj', 5.9,(2,3,4))"
   ]
  },
  {
   "cell_type": "markdown",
   "id": "046bb8bb",
   "metadata": {},
   "source": [
    "Q.8. Explain the mutable and immutable data types with proper explanation & examples.\n",
    "\n",
    "Answer: Mutable objects are those that allow you to change their value or data in place without affecting the object's identity. In contrast, immutable objects don't allow this kind of operation. \n",
    "    \n",
    "    Example of mutable data type are list, dictionary, set. Example of immutable data type is tuple. "
   ]
  },
  {
   "cell_type": "markdown",
   "id": "2a35e6cb",
   "metadata": {},
   "source": [
    "Q.9. Write a code to create the given structure using only for loop.\n"
   ]
  },
  {
   "cell_type": "code",
   "execution_count": 12,
   "id": "9d5ed80e",
   "metadata": {},
   "outputs": [
    {
     "name": "stdout",
     "output_type": "stream",
     "text": [
      "    *\n",
      "   ***\n",
      "  *****\n",
      " *******\n",
      "*********\n"
     ]
    }
   ],
   "source": [
    "n = 5\n",
    "\n",
    "for i in range(n):\n",
    "    print(' '*(n-i-1)+'*'*(2*i+1))\n"
   ]
  },
  {
   "cell_type": "markdown",
   "id": "6ba9cb79",
   "metadata": {},
   "source": [
    "Q.10. Write a code to create the given structure using while loop.\n"
   ]
  },
  {
   "cell_type": "code",
   "execution_count": 19,
   "id": "18b9a4a4",
   "metadata": {},
   "outputs": [
    {
     "name": "stdout",
     "output_type": "stream",
     "text": [
      "|||||||||\n",
      " |||||||\n",
      "  |||||\n",
      "   |||\n",
      "    |\n"
     ]
    }
   ],
   "source": [
    "n=5\n",
    "for i in range(n):\n",
    "    print(' '*(i)+ '|'*(2*n-2*i-1))"
   ]
  },
  {
   "cell_type": "code",
   "execution_count": null,
   "id": "14262683",
   "metadata": {},
   "outputs": [],
   "source": []
  },
  {
   "cell_type": "code",
   "execution_count": null,
   "id": "924a5ada",
   "metadata": {},
   "outputs": [],
   "source": []
  }
 ],
 "metadata": {
  "kernelspec": {
   "display_name": "Python 3 (ipykernel)",
   "language": "python",
   "name": "python3"
  },
  "language_info": {
   "codemirror_mode": {
    "name": "ipython",
    "version": 3
   },
   "file_extension": ".py",
   "mimetype": "text/x-python",
   "name": "python",
   "nbconvert_exporter": "python",
   "pygments_lexer": "ipython3",
   "version": "3.10.9"
  }
 },
 "nbformat": 4,
 "nbformat_minor": 5
}
